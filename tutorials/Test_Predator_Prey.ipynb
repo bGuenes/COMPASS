{
 "cells": [
  {
   "cell_type": "code",
   "execution_count": null,
   "id": "21f1f4f3",
   "metadata": {},
   "outputs": [],
   "source": [
    "from autocvd import autocvd\n",
    "autocvd(num_gpus=5, )"
   ]
  },
  {
   "cell_type": "code",
   "execution_count": null,
   "id": "5d50a1a6",
   "metadata": {},
   "outputs": [],
   "source": [
    "import os\n",
    "os.chdir('/export/home/bguenes/COMPASS/')\n",
    "from src.compass import ScoreBasedInferenceModel as SBIm\n",
    "from src.compass import ModelTransfuser as MTf\n",
    "os.chdir('/export/home/bguenes/COMPASS/tutorials')"
   ]
  },
  {
   "cell_type": "code",
   "execution_count": null,
   "id": "fdc10b52",
   "metadata": {},
   "outputs": [],
   "source": [
    "# from compass import ScoreBasedInferenceModel as SBIm\n",
    "# from compass import ModelTransfuser as MTf"
   ]
  },
  {
   "cell_type": "code",
   "execution_count": null,
   "id": "6bc43fe6",
   "metadata": {},
   "outputs": [],
   "source": [
    "import torch\n",
    "\n",
    "import pandas as pd\n",
    "import seaborn as sns\n",
    "import matplotlib.pyplot as plt"
   ]
  },
  {
   "cell_type": "code",
   "execution_count": null,
   "id": "de2b9732",
   "metadata": {},
   "outputs": [],
   "source": [
    "# --- 1. General ODE Solver (using simple Euler method) ---\n",
    "def solve_ode(model_func, initial_state, params, t_max, dt):\n",
    "    \"\"\"\n",
    "    Solves a system of ODEs using the Euler method.\n",
    "\n",
    "    Args:\n",
    "        model_func (function): The function defining the ODEs (e.g., lotka_volterra).\n",
    "        initial_state (torch.Tensor): The starting values [N, P].\n",
    "        params (dict): A dictionary of parameters for the model.\n",
    "        t_max (int): The maximum simulation time.\n",
    "        dt (float): The time step.\n",
    "\n",
    "    Returns:\n",
    "        (torch.Tensor, torch.Tensor): Tensors for time points and population history.\n",
    "    \"\"\"\n",
    "    # Setup time steps and history arrays\n",
    "    time_steps = torch.arange(0, t_max, dt)\n",
    "    history = torch.zeros(initial_state.shape[0], len(time_steps), 2)\n",
    "    history[:, 0, :] = initial_state\n",
    "    \n",
    "    # Current state starts at the initial state\n",
    "    current_state = initial_state.clone()\n",
    "\n",
    "    # Euler integration loop\n",
    "    for i in range(1, len(time_steps)):\n",
    "        # Get the derivatives from the model function\n",
    "        derivatives = model_func(current_state, params)\n",
    "        # Update the state using the Euler step\n",
    "        current_state += derivatives * dt\n",
    "        # Ensure populations don't go below zero\n",
    "        current_state = torch.max(current_state, torch.tensor([0.0, 0.0]))\n",
    "        history[:, i, :] = current_state\n",
    "        \n",
    "    return time_steps, history"
   ]
  },
  {
   "cell_type": "code",
   "execution_count": null,
   "id": "215893f4",
   "metadata": {},
   "outputs": [],
   "source": [
    "# --- 2. The Four Competing Model Functions ---\n",
    "# Each model uses exactly four parameters: {alpha, beta, gamma, delta}\n",
    "\n",
    "def lotka_volterra(state, params):\n",
    "    \"\"\"Model 1: Classic Lotka-Volterra dynamics.\"\"\"\n",
    "    N, P = state.T\n",
    "    alpha, beta, gamma, delta = params.T\n",
    "\n",
    "    dN_dt = alpha * N - beta * N * P\n",
    "    dP_dt = delta * N * P - gamma * P\n",
    "    return torch.stack([dN_dt, dP_dt]).T\n",
    "\n",
    "def logistic_prey(state, params):\n",
    "    \"\"\"Model 2: Prey with logistic growth.\"\"\"\n",
    "    \n",
    "    N, P = state.T\n",
    "    alpha, beta, gamma, delta = params.T\n",
    "    delta_lp = delta * 1000  # Prey carrying capacity (logistic growth)\n",
    "    cn_rate = 0.5  # Fixed conversion efficiency\n",
    "\n",
    "    dN_dt = alpha * N * (1 - N / delta_lp) - beta * N * P\n",
    "    dP_dt = cn_rate * beta * N * P - gamma * P\n",
    "    return torch.stack([dN_dt, dP_dt]).T\n",
    "\n",
    "def satiated_predator(state, params):\n",
    "    \"\"\"Model 3: Predator with satiation (Holling Type II).\"\"\"\n",
    "    N, P = state.T\n",
    "    alpha, beta, gamma, delta = params.T\n",
    "    cn_rate = 0.5 # Fixed conversion efficiency\n",
    "\n",
    "    consumption = (beta * N) / (1 + beta * delta * N)\n",
    "    dN_dt = alpha * N - consumption * P\n",
    "    dP_dt = cn_rate * consumption * P - gamma * P\n",
    "    return torch.stack([dN_dt, dP_dt]).T\n",
    "\n",
    "def rosenzweig_macarthur(state, params):\n",
    "    \"\"\"Model 4: Both logistic prey and satiated predator.\"\"\"\n",
    "    N, P = state.T\n",
    "    alpha, beta, gamma, delta = params.T\n",
    "    delta_rm = delta * 1000  # \n",
    "    cn_rate = 0.5 # Fixed conversion efficiency\n",
    "    h_rate = 0.1 # Fixed handling time\n",
    "\n",
    "    consumption = (beta * N) / (1 + beta * h_rate * N)\n",
    "    dN_dt = alpha * N * (1 - N / delta_rm) - consumption * P\n",
    "    dP_dt = cn_rate * consumption * P - gamma * P\n",
    "    return torch.stack([dN_dt, dP_dt]).T"
   ]
  },
  {
   "cell_type": "code",
   "execution_count": null,
   "id": "85c7ac9c",
   "metadata": {},
   "outputs": [],
   "source": [
    "# --- 3. Simulation Setup ---\n",
    "# Initial conditions [N0, P0]\n",
    "initial_state = torch.tensor([[20.0, 30.0]])\n",
    "\n",
    "# Simulation time\n",
    "t_max = 30\n",
    "dt = 0.01\n",
    "\n",
    "# List of models to run\n",
    "models = {\n",
    "    \"Lotka-Volterra\": lotka_volterra,\n",
    "    \"Logistic Prey\": logistic_prey,\n",
    "    \"Satiated Predator\": satiated_predator,\n",
    "    \"Rosenzweig-MacArthur\": rosenzweig_macarthur\n",
    "}"
   ]
  },
  {
   "cell_type": "markdown",
   "id": "f73a9b1a",
   "metadata": {},
   "source": [
    "## Lynx and Hare Population Dynamics"
   ]
  },
  {
   "cell_type": "code",
   "execution_count": null,
   "id": "c8d6e792",
   "metadata": {},
   "outputs": [],
   "source": [
    "url = 'http://people.whitman.edu/~hundledr/courses/M250F03/LynxHare.txt'\n",
    "df = pd.read_csv(url, sep=r'\\s+', header=None, index_col=0)\n",
    "df.index.name = 'Year'\n",
    "df.columns = ['Hare', 'Lynx']\n",
    "\n",
    "time = torch.tensor(df.index.values)\n",
    "df.index = df.index - df.index.min()\n",
    "index = torch.tensor(df.index.values)\n",
    "hare, lynx = torch.tensor(df['Hare'].values), torch.tensor(df['Lynx'].values)\n",
    "\n",
    "\n",
    "plt.figure(figsize=(15,5))\n",
    "sns.scatterplot(x=time, y=hare, label='Hare (Prey)')\n",
    "sns.lineplot(x=time, y=hare)\n",
    "sns.scatterplot(x=time, y=lynx, label='Lynx (Predator)')\n",
    "sns.lineplot(x=time, y=lynx)\n",
    "\n",
    "\n",
    "plt.legend()\n",
    "plt.xlabel('Time')\n",
    "plt.ylabel('Population')\n",
    "plt.title('Hare and Lynx Population Over Time')\n",
    "plt.tight_layout()\n",
    "plt.show()"
   ]
  },
  {
   "cell_type": "markdown",
   "id": "b076a89e",
   "metadata": {},
   "source": [
    "## Create Training Data"
   ]
  },
  {
   "cell_type": "code",
   "execution_count": null,
   "id": "6f832d14",
   "metadata": {},
   "outputs": [],
   "source": [
    "class prior_distributions:\n",
    "    def __init__(self):\n",
    "        self.alpha = torch.distributions.normal.Normal(-0.125, 0.5)\n",
    "        self.beta = torch.distributions.normal.Normal(-3, 0.5)\n",
    "        self.gamma = torch.distributions.normal.Normal(-0.125, 0.5)\n",
    "        self.delta = torch.distributions.normal.Normal(-3, 0.5)\n",
    "\n",
    "    def sample(self, num_samples=1):\n",
    "        alpha = self.alpha.sample((num_samples,))\n",
    "        beta = self.beta.sample((num_samples,))\n",
    "        gamma = self.gamma.sample((num_samples,))\n",
    "        delta = self.delta.sample((num_samples,))\n",
    "\n",
    "        params = torch.stack([alpha, beta, gamma, delta], dim=-1)\n",
    "\n",
    "        return params\n",
    "\n",
    "prior = prior_distributions()"
   ]
  },
  {
   "cell_type": "markdown",
   "id": "3c74c4eb",
   "metadata": {},
   "source": [
    "## Initialize COMPASS"
   ]
  },
  {
   "cell_type": "code",
   "execution_count": null,
   "id": "b9ca8c93",
   "metadata": {},
   "outputs": [],
   "source": [
    "mtf = MTf(path=\"data/predator_prey\")"
   ]
  },
  {
   "cell_type": "code",
   "execution_count": null,
   "id": "ae8dee57",
   "metadata": {},
   "outputs": [],
   "source": [
    "# # # Load the pretrained models\n",
    "\n",
    "for model_name, _ in models.items():\n",
    "    sbim = SBIm.load(f\"data/predator_prey/{model_name}_checkpoint.pt\", device=\"cuda\")\n",
    "    mtf.add_model(model_name, sbim)"
   ]
  },
  {
   "cell_type": "code",
   "execution_count": null,
   "id": "179283cd",
   "metadata": {},
   "outputs": [],
   "source": [
    "data = torch.stack([hare, lynx], dim=-1).flatten()[:60].unsqueeze(0).float()\n",
    "data = data/100"
   ]
  },
  {
   "cell_type": "code",
   "execution_count": null,
   "id": "47c62eb9",
   "metadata": {},
   "outputs": [],
   "source": [
    "test_params = prior.sample(1)\n",
    "time, history = solve_ode(model_func, torch.tensor([[20.0,30.0]]), torch.exp(test_params), 30, 0.01)\n",
    "test_data = history[:, time % 1 == 0].flatten(1)/100"
   ]
  },
  {
   "cell_type": "code",
   "execution_count": null,
   "id": "ae377ea2",
   "metadata": {},
   "outputs": [],
   "source": [
    "mtf.compare(x=test_data, device=\"cuda\", timesteps=1000, method=\"dpm\", order=2)"
   ]
  },
  {
   "cell_type": "code",
   "execution_count": null,
   "id": "9c9b02f1",
   "metadata": {},
   "outputs": [],
   "source": [
    "mtf.plot_comparison()"
   ]
  },
  {
   "cell_type": "code",
   "execution_count": null,
   "id": "f85c9994",
   "metadata": {},
   "outputs": [],
   "source": [
    "labels= [\"r\", \"a\", \"m\", \"K\"] + torch.arange(0, test_data.shape[1]).tolist()"
   ]
  },
  {
   "cell_type": "code",
   "execution_count": null,
   "id": "a32e986c",
   "metadata": {},
   "outputs": [],
   "source": [
    "mtf.plot_attention(labels=labels)"
   ]
  },
  {
   "cell_type": "code",
   "execution_count": null,
   "id": "82117990",
   "metadata": {},
   "outputs": [],
   "source": [
    "a = mtf.stats[\"Lotka-Volterra\"][\"MAP\"][0,0]"
   ]
  },
  {
   "cell_type": "code",
   "execution_count": null,
   "id": "5a041c16",
   "metadata": {},
   "outputs": [],
   "source": [
    "a =torch.tensor(a)\n",
    "params = torch.exp(a)\n",
    "initial_state = torch.tensor([[20.0,30.0]])\n",
    "\n",
    "# Simulation time\n",
    "t_max = 30\n",
    "dt = 0.01\n",
    "\n",
    "best_model_fn = models[\"Lotka-Volterra\"]\n",
    "\n",
    "time_best, history_best = solve_ode(best_model_fn, initial_state, params, t_max, dt)"
   ]
  },
  {
   "cell_type": "code",
   "execution_count": null,
   "id": "8a061263",
   "metadata": {},
   "outputs": [],
   "source": [
    "#time = torch.tensor(df.index.values)\n",
    "plt.figure(figsize=(15,5))\n",
    "# sns.scatterplot(x=time, y=hare, label='Hare (Prey)', color='blue')\n",
    "# sns.lineplot(x=time, y=hare, color='blue', alpha=0.5)\n",
    "# sns.scatterplot(x=time, y=lynx, label='Lynx (Predator)', color='orange')\n",
    "# sns.lineplot(x=time, y=lynx, color='orange', alpha=0.5)\n",
    "\n",
    "plt.plot(time, history[0, :, 0], label='Hare (Sample)', color='blue')\n",
    "plt.plot(time, history[0, :, 1], label='Lynx (Sample)', color='orange')\n",
    "\n",
    "\n",
    "sns.lineplot(x=time_best, y=history_best[0, :, 0], label='Hare (Model)', color='blue', linestyle='--')\n",
    "sns.lineplot(x=time_best, y=history_best[0, :, 1], label='Lynx (Model)', color='orange', linestyle='--')\n",
    "\n",
    "plt.legend()\n",
    "plt.xlabel('Time')\n",
    "plt.ylabel('Population')\n",
    "plt.title('Hare and Lynx Population Over Time')\n",
    "plt.tight_layout()\n",
    "plt.show()"
   ]
  }
 ],
 "metadata": {
  "kernelspec": {
   "display_name": "sbi-compass",
   "language": "python",
   "name": "python3"
  },
  "language_info": {
   "codemirror_mode": {
    "name": "ipython",
    "version": 3
   },
   "file_extension": ".py",
   "mimetype": "text/x-python",
   "name": "python",
   "nbconvert_exporter": "python",
   "pygments_lexer": "ipython3",
   "version": "3.13.2"
  }
 },
 "nbformat": 4,
 "nbformat_minor": 5
}
