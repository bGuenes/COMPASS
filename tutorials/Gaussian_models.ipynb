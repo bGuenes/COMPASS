{
 "cells": [
  {
   "cell_type": "markdown",
   "metadata": {},
   "source": [
    "# Bayesian Model Comparison on Gaussian Processes\n",
    "\n",
    "This notebook demonstrates how to perform Bayesian model comparison with the `compass` package on the example of Gaussian processes."
   ]
  },
  {
   "cell_type": "code",
   "execution_count": null,
   "metadata": {},
   "outputs": [],
   "source": [
    "import os\n",
    "os.environ['CUDA_VISIBLE_DEVICES'] = \"8,9\""
   ]
  },
  {
   "cell_type": "code",
   "execution_count": null,
   "metadata": {},
   "outputs": [],
   "source": [
    "#from compass import ScoreBasedInferenceModel as SBIm\n",
    "#from compass import ModelTransfuser as MTf"
   ]
  },
  {
   "cell_type": "code",
   "execution_count": null,
   "metadata": {},
   "outputs": [],
   "source": [
    "os.chdir('/export/home/bguenes/COMPASS/')\n",
    "from src.compass import ScoreBasedInferenceModel as SBIm\n",
    "from src.compass import ModelTransfuser as MTf"
   ]
  },
  {
   "cell_type": "code",
   "execution_count": null,
   "metadata": {},
   "outputs": [],
   "source": [
    "os.chdir('/export/home/bguenes/COMPASS/tutorials')\n",
    "import torch\n",
    "\n",
    "import pandas as pd\n",
    "import seaborn as sns\n",
    "import matplotlib.pyplot as plt"
   ]
  },
  {
   "cell_type": "markdown",
   "metadata": {},
   "source": [
    "## Hypothesis 1\n",
    "$$ \\begin{align*}\n",
    "    \\theta_1 &\\sim \\mathcal{N}(0, 3^2) \\\\\n",
    "    x_1 &\\sim \\mathcal{N}(2 \\cdot \\sin(\\theta_1), 0.5^2) \\\\\n",
    "    x_2 &\\sim \\mathcal{N}(0.1 \\cdot \\theta_1^2, (0.5 \\cdot |x_1|)^2)\n",
    "\\end{align*} $$"
   ]
  },
  {
   "cell_type": "code",
   "execution_count": null,
   "metadata": {},
   "outputs": [],
   "source": [
    "def gen_data_hyp1(int):\n",
    "    theta1 = 3 * torch.randn(int)\n",
    "    x1 = 2 * torch.sin(theta1) + torch.randn(int) * 0.5\n",
    "    x2 = 0.1 * theta1**2 + 0.5*torch.abs(x1) * torch.randn(int)\n",
    "\n",
    "    return theta1.unsqueeze(1), torch.stack([x1, x2],dim=1)"
   ]
  },
  {
   "cell_type": "code",
   "execution_count": null,
   "metadata": {},
   "outputs": [],
   "source": [
    "theta1, x1 = gen_data_hyp1(100_000)\n",
    "val_theta1, val_x1 = gen_data_hyp1(1_000)\n",
    "\n",
    "nodes_max = theta1.shape[1] + x1.shape[1]"
   ]
  },
  {
   "cell_type": "markdown",
   "metadata": {},
   "source": [
    "## Hypothesis 2\n",
    "$$ \\begin{align*}\n",
    "    \\theta_1 &\\sim \\mathcal{N}(0, 3^2) \\\\\n",
    "    x_1 &\\sim \\mathcal{N}(2 \\cdot \\cos(\\theta_1), 0.5^2) \\\\\n",
    "    x_2 &\\sim \\mathcal{N}(0.1 \\cdot \\theta_1^2, (0.5 \\cdot |x_1|)^2)\n",
    "\\end{align*} $$"
   ]
  },
  {
   "cell_type": "code",
   "execution_count": null,
   "metadata": {},
   "outputs": [],
   "source": [
    "def gen_data_hyp2(int):\n",
    "    theta1 = 3 * torch.randn(int)\n",
    "    x1 = 2 * torch.cos(theta1) + torch.randn(int) * 0.5\n",
    "    x2 = 0.1 * theta1**2 + 0.5*torch.abs(x1) * torch.randn(int)\n",
    "\n",
    "    return theta1.unsqueeze(1), torch.stack([x1, x2],dim=1)"
   ]
  },
  {
   "cell_type": "code",
   "execution_count": null,
   "metadata": {},
   "outputs": [],
   "source": [
    "theta2, x2 = gen_data_hyp2(100_000)\n",
    "val_theta2, val_x2 = gen_data_hyp2(1_000)"
   ]
  },
  {
   "cell_type": "markdown",
   "metadata": {},
   "source": [
    "## Hypothesis 3\n",
    "$$ \\begin{align*}\n",
    "    \\theta_1 &\\sim \\mathcal{N}(0, 3^2) \\\\\n",
    "    x_1 &\\sim \\mathcal{N}(0, 1^2) \\\\\n",
    "    x_2 &\\sim |\\mathcal{N}(0, 2^2)|\n",
    "\\end{align*} $$"
   ]
  },
  {
   "cell_type": "code",
   "execution_count": null,
   "metadata": {},
   "outputs": [],
   "source": [
    "def gen_data_hyp3(int):\n",
    "    theta1 = 3 * torch.randn(int)\n",
    "    x1 = torch.randn(int)\n",
    "    x2 = torch.abs(torch.randn(int)) * 2\n",
    "\n",
    "    return theta1.unsqueeze(1), torch.stack([x1, x2],dim=1)"
   ]
  },
  {
   "cell_type": "code",
   "execution_count": null,
   "metadata": {},
   "outputs": [],
   "source": [
    "theta3, x3 = gen_data_hyp3(100_000)\n",
    "val_theta3, val_x3 = gen_data_hyp3(1_000)"
   ]
  },
  {
   "cell_type": "code",
   "execution_count": null,
   "metadata": {},
   "outputs": [],
   "source": [
    "df1 = pd.DataFrame(torch.concatenate([val_theta1, val_x1], dim=1).numpy(), columns=['theta', 'x1', 'x2'])\n",
    "df2 = pd.DataFrame(torch.concatenate([val_theta2, val_x2], dim=1).numpy(), columns=['theta', 'x1', 'x2'])\n",
    "df3 = pd.DataFrame(torch.concatenate([val_theta3, val_x3], dim=1).numpy(), columns=['theta', 'x1', 'x2'])\n",
    "\n",
    "df1[\"hypothesis\"] = \"hyp1\"\n",
    "df2[\"hypothesis\"] = \"hyp2\"\n",
    "df3[\"hypothesis\"] = \"hyp3\"\n",
    "\n",
    "combined_df = pd.concat([df1, df2, df3], axis=0)\n",
    "\n",
    "sns.pairplot(combined_df, diag_kind='kde', hue='hypothesis', plot_kws=dict(alpha=0.3, s=2))\n",
    "plt.show()"
   ]
  },
  {
   "cell_type": "code",
   "execution_count": null,
   "metadata": {},
   "outputs": [],
   "source": [
    "mtf = MTf(path=\"data/tutorial_Gaussians\")"
   ]
  },
  {
   "cell_type": "code",
   "execution_count": null,
   "metadata": {},
   "outputs": [],
   "source": [
    "mtf.add_data(\"Hypothesis 1\", theta1, x1, val_theta1, val_x1)\n",
    "mtf.add_data(\"Hypothesis 2\", theta2, x2, val_theta2, val_x2)\n",
    "mtf.add_data(\"Hypothesis 3\", theta3, x3, val_theta3, val_x3)"
   ]
  },
  {
   "cell_type": "code",
   "execution_count": null,
   "metadata": {},
   "outputs": [],
   "source": [
    "mtf.init_models(sde_type=\"vesde\", sigma=3, depth=4, num_heads=5, hidden_size=20, mlp_ratio=4)"
   ]
  },
  {
   "cell_type": "code",
   "execution_count": null,
   "metadata": {},
   "outputs": [],
   "source": [
    "mtf.train_models(batch_size=256)"
   ]
  },
  {
   "cell_type": "code",
   "execution_count": null,
   "metadata": {},
   "outputs": [],
   "source": [
    "# Load the pretrained models\n",
    "\n",
    "# sbim1 = SBIm.load(\"data/tutorial_Gaussians/Hypothesis 1.pt\", device=\"cuda\")\n",
    "# sbim2 = SBIm.load(\"data/tutorial_Gaussians/Hypothesis 2.pt\", device=\"cuda\")\n",
    "# sbim3 = SBIm.load(\"data/tutorial_Gaussians/Hypothesis 3.pt\", device=\"cuda\")\n",
    "\n",
    "# mtf.add_model(\"Hypothesis 1\", sbim1)\n",
    "# mtf.add_model(\"Hypothesis 2\", sbim2)\n",
    "# mtf.add_model(\"Hypothesis 3\", sbim3)"
   ]
  },
  {
   "cell_type": "code",
   "execution_count": null,
   "metadata": {},
   "outputs": [],
   "source": [
    "# Create test data\n",
    "test_theta1, test_x1 = gen_data_hyp1(100)\n",
    "\n",
    "# Compare models on test data\n",
    "mtf.compare(x=test_x1, device=\"cuda\", timesteps=500, method=\"dpm\", order=1)"
   ]
  },
  {
   "cell_type": "code",
   "execution_count": null,
   "metadata": {},
   "outputs": [],
   "source": [
    "mtf.plot_comparison()"
   ]
  },
  {
   "cell_type": "code",
   "execution_count": null,
   "metadata": {},
   "outputs": [],
   "source": [
    "mtf.plot_attention(labels=[r\"$\\theta$\", r\"$x_1$\", r\"$x_2$\"])"
   ]
  }
 ],
 "metadata": {
  "kernelspec": {
   "display_name": "sbi-compass",
   "language": "python",
   "name": "python3"
  },
  "language_info": {
   "codemirror_mode": {
    "name": "ipython",
    "version": 3
   },
   "file_extension": ".py",
   "mimetype": "text/x-python",
   "name": "python",
   "nbconvert_exporter": "python",
   "pygments_lexer": "ipython3",
   "version": "3.13.2"
  }
 },
 "nbformat": 4,
 "nbformat_minor": 2
}
